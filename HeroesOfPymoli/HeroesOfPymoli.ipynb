{
 "cells": [
  {
   "cell_type": "code",
   "execution_count": 1,
   "metadata": {},
   "outputs": [],
   "source": [
    "# Dependencies and Setup\n",
    "import pandas as pd\n",
    "\n",
    "# File to Load (Remember to Change These)\n",
    "file_to_load = \"Resources/purchase_data.csv\"\n",
    "\n",
    "# Read Purchasing File and store into Pandas data frame\n",
    "purchase_data = pd.read_csv(file_to_load)"
   ]
  },
  {
   "cell_type": "markdown",
   "metadata": {},
   "source": [
    "## Player Count"
   ]
  },
  {
   "cell_type": "markdown",
   "metadata": {},
   "source": [
    "* Display the total number of players\n"
   ]
  },
  {
   "cell_type": "code",
   "execution_count": 2,
   "metadata": {},
   "outputs": [
    {
     "output_type": "execute_result",
     "data": {
      "text/plain": [
       "   Total Players\n",
       "0            576"
      ],
      "text/html": "<div>\n<style scoped>\n    .dataframe tbody tr th:only-of-type {\n        vertical-align: middle;\n    }\n\n    .dataframe tbody tr th {\n        vertical-align: top;\n    }\n\n    .dataframe thead th {\n        text-align: right;\n    }\n</style>\n<table border=\"1\" class=\"dataframe\">\n  <thead>\n    <tr style=\"text-align: right;\">\n      <th></th>\n      <th>Total Players</th>\n    </tr>\n  </thead>\n  <tbody>\n    <tr>\n      <th>0</th>\n      <td>576</td>\n    </tr>\n  </tbody>\n</table>\n</div>"
     },
     "metadata": {},
     "execution_count": 2
    }
   ],
   "source": [
    "# Total number of players\n",
    "TotalPlayers = purchase_data[\"SN\"].nunique()\n",
    "\n",
    "# Dataframe created from a dictionary \n",
    "total_palyers_data = {\"Total Players\":[TotalPlayers]}\n",
    "tot_players_df = pd.DataFrame(total_palyers_data)\n",
    "\n",
    "# Display\n",
    "tot_players_df"
   ]
  },
  {
   "cell_type": "markdown",
   "metadata": {},
   "source": [
    "## Purchasing Analysis (Total)"
   ]
  },
  {
   "cell_type": "markdown",
   "metadata": {},
   "source": [
    "* Run basic calculations to obtain number of unique items, average price, etc.\n",
    "\n",
    "\n",
    "* Create a summary data frame to hold the results\n",
    "\n",
    "\n",
    "* Optional: give the displayed data cleaner formatting\n",
    "\n",
    "\n",
    "* Display the summary data frame\n"
   ]
  },
  {
   "cell_type": "code",
   "execution_count": 3,
   "metadata": {
    "scrolled": true
   },
   "outputs": [
    {
     "output_type": "execute_result",
     "data": {
      "text/plain": [
       "   Number of Unique Items Average Price  Number of Purchases Total Revenue\n",
       "0                     179         $3.05                  780     $2,379.77"
      ],
      "text/html": "<div>\n<style scoped>\n    .dataframe tbody tr th:only-of-type {\n        vertical-align: middle;\n    }\n\n    .dataframe tbody tr th {\n        vertical-align: top;\n    }\n\n    .dataframe thead th {\n        text-align: right;\n    }\n</style>\n<table border=\"1\" class=\"dataframe\">\n  <thead>\n    <tr style=\"text-align: right;\">\n      <th></th>\n      <th>Number of Unique Items</th>\n      <th>Average Price</th>\n      <th>Number of Purchases</th>\n      <th>Total Revenue</th>\n    </tr>\n  </thead>\n  <tbody>\n    <tr>\n      <th>0</th>\n      <td>179</td>\n      <td>$3.05</td>\n      <td>780</td>\n      <td>$2,379.77</td>\n    </tr>\n  </tbody>\n</table>\n</div>"
     },
     "metadata": {},
     "execution_count": 3
    }
   ],
   "source": [
    "# Calc Number of Unique Items\n",
    "No_Of_Unique_Items = purchase_data[\"Item ID\"].nunique()\n",
    "\n",
    "# Calc Average Price\n",
    "Average_Price = purchase_data[\"Price\"].mean()\n",
    "\n",
    "# Calc Number of Purchases\n",
    "No_Of_Purchases = purchase_data[\"Purchase ID\"].count()\n",
    "\n",
    "# Calc Total Revenue\n",
    "Total_Revenue = purchase_data[\"Price\"].sum()\n",
    "\n",
    "# Applying cleaner formatting for display data\n",
    "Average_Price = \"${:.2f}\".format(Average_Price)\n",
    "Total_Revenue = \"${:,.2f}\".format(Total_Revenue)\n",
    "\n",
    "# Dataframe created using lists\n",
    "results = [[No_Of_Unique_Items,Average_Price,No_Of_Purchases,Total_Revenue]]\n",
    "cols = [\"Number of Unique Items\",\"Average Price\",\"Number of Purchases\",\"Total Revenue\"]\n",
    "summary_dataframe = pd.DataFrame(data=results,columns=cols)\n",
    "\n",
    "# Display\n",
    "summary_dataframe"
   ]
  },
  {
   "cell_type": "markdown",
   "metadata": {},
   "source": [
    "## Gender Demographics"
   ]
  },
  {
   "cell_type": "markdown",
   "metadata": {},
   "source": [
    "* Percentage and Count of Male Players\n",
    "\n",
    "\n",
    "* Percentage and Count of Female Players\n",
    "\n",
    "\n",
    "* Percentage and Count of Other / Non-Disclosed\n",
    "\n",
    "\n"
   ]
  },
  {
   "cell_type": "code",
   "execution_count": 4,
   "metadata": {},
   "outputs": [
    {
     "output_type": "execute_result",
     "data": {
      "text/plain": [
       "                       Total Count Percentage of Players\n",
       "Male                           484                84.03%\n",
       "Female                          81                14.06%\n",
       "Other / Non-Disclosed           11                 1.91%"
      ],
      "text/html": "<div>\n<style scoped>\n    .dataframe tbody tr th:only-of-type {\n        vertical-align: middle;\n    }\n\n    .dataframe tbody tr th {\n        vertical-align: top;\n    }\n\n    .dataframe thead th {\n        text-align: right;\n    }\n</style>\n<table border=\"1\" class=\"dataframe\">\n  <thead>\n    <tr style=\"text-align: right;\">\n      <th></th>\n      <th>Total Count</th>\n      <th>Percentage of Players</th>\n    </tr>\n  </thead>\n  <tbody>\n    <tr>\n      <th>Male</th>\n      <td>484</td>\n      <td>84.03%</td>\n    </tr>\n    <tr>\n      <th>Female</th>\n      <td>81</td>\n      <td>14.06%</td>\n    </tr>\n    <tr>\n      <th>Other / Non-Disclosed</th>\n      <td>11</td>\n      <td>1.91%</td>\n    </tr>\n  </tbody>\n</table>\n</div>"
     },
     "metadata": {},
     "execution_count": 4
    }
   ],
   "source": [
    "# Grouping by Gender\n",
    "grouped_pd = purchase_data.groupby([\"Gender\"])\n",
    "\n",
    "# Total Count of players in each gender\n",
    "total_player_count_by_gender = grouped_pd[\"SN\"].nunique()\n",
    "\n",
    "# Create summary dataframe and start adding summary starting with Total Count of players by gender\n",
    "grouped_pd = pd.DataFrame(total_player_count_by_gender)\n",
    "grouped_pd = grouped_pd.rename(columns={\"SN\":\"Total Count\"})\n",
    "\n",
    "# Sorting the dataframe by Total Count of players\n",
    "grouped_pd = grouped_pd.sort_values(by=\"Total Count\", ascending=False)\n",
    "\n",
    "# Percentage of players\n",
    "total_player_count = grouped_pd[\"Total Count\"].sum()\n",
    "per_players = (total_player_count_by_gender/total_player_count)*100\n",
    "\n",
    "# Applying cleaner formatting\n",
    "per_players = per_players.astype(float).map(\"{:.2f}%\".format)\n",
    "\n",
    "# Adding Percentage of Players to dataframe\n",
    "grouped_pd[\"Percentage of Players\"] = per_players\n",
    "\n",
    "# Display \n",
    "grouped_pd.index.name=None\n",
    "grouped_pd"
   ]
  },
  {
   "cell_type": "markdown",
   "metadata": {},
   "source": [
    "\n",
    "## Purchasing Analysis (Gender)"
   ]
  },
  {
   "cell_type": "markdown",
   "metadata": {},
   "source": [
    "* Run basic calculations to obtain purchase count, avg. purchase price, avg. purchase total per person etc. by gender\n",
    "\n",
    "\n",
    "\n",
    "\n",
    "* Create a summary data frame to hold the results\n",
    "\n",
    "\n",
    "* Optional: give the displayed data cleaner formatting\n",
    "\n",
    "\n",
    "* Display the summary data frame"
   ]
  },
  {
   "cell_type": "code",
   "execution_count": 5,
   "metadata": {},
   "outputs": [
    {
     "output_type": "execute_result",
     "data": {
      "text/plain": [
       "                       Purchase Count Average Purchase Price  \\\n",
       "Gender                                                         \n",
       "Female                            113                  $3.20   \n",
       "Male                              652                  $3.02   \n",
       "Other / Non-Disclosed              15                  $3.35   \n",
       "\n",
       "                      Total Purchase Value Avg Total Purchase per Person  \n",
       "Gender                                                                    \n",
       "Female                             $361.94                         $4.47  \n",
       "Male                             $1,967.64                         $4.07  \n",
       "Other / Non-Disclosed               $50.19                         $4.56  "
      ],
      "text/html": "<div>\n<style scoped>\n    .dataframe tbody tr th:only-of-type {\n        vertical-align: middle;\n    }\n\n    .dataframe tbody tr th {\n        vertical-align: top;\n    }\n\n    .dataframe thead th {\n        text-align: right;\n    }\n</style>\n<table border=\"1\" class=\"dataframe\">\n  <thead>\n    <tr style=\"text-align: right;\">\n      <th></th>\n      <th>Purchase Count</th>\n      <th>Average Purchase Price</th>\n      <th>Total Purchase Value</th>\n      <th>Avg Total Purchase per Person</th>\n    </tr>\n    <tr>\n      <th>Gender</th>\n      <th></th>\n      <th></th>\n      <th></th>\n      <th></th>\n    </tr>\n  </thead>\n  <tbody>\n    <tr>\n      <th>Female</th>\n      <td>113</td>\n      <td>$3.20</td>\n      <td>$361.94</td>\n      <td>$4.47</td>\n    </tr>\n    <tr>\n      <th>Male</th>\n      <td>652</td>\n      <td>$3.02</td>\n      <td>$1,967.64</td>\n      <td>$4.07</td>\n    </tr>\n    <tr>\n      <th>Other / Non-Disclosed</th>\n      <td>15</td>\n      <td>$3.35</td>\n      <td>$50.19</td>\n      <td>$4.56</td>\n    </tr>\n  </tbody>\n</table>\n</div>"
     },
     "metadata": {},
     "execution_count": 5
    }
   ],
   "source": [
    "#Group data by Gender into a new dataframe PA_Gender\n",
    "PA_Gender = purchase_data.groupby([\"Gender\"])\n",
    "\n",
    "#create series for each aggregate calculation\n",
    "# Purchase Count\n",
    "purchase_cnt = PA_Gender[\"SN\"].count()\n",
    "\n",
    "# Average Purchase Price\n",
    "avg_purchase_price = PA_Gender[\"Price\"].mean()\n",
    "\n",
    "# Total Purchase Value\n",
    "tot_purchase_val = PA_Gender[\"Price\"].sum()\n",
    "\n",
    "# Avg Total Purchase per Person\n",
    "purchase_cnt_uniq_person = PA_Gender[\"SN\"].nunique()\n",
    "avg_total_purchase_per_person = tot_purchase_val/purchase_cnt_uniq_person\n",
    "\n",
    "#Formatting display\n",
    "avg_purchase_price = avg_purchase_price.astype(float).map(\"${:.2f}\".format)\n",
    "tot_purchase_val = tot_purchase_val.astype(float).map(\"${:,.2f}\".format)\n",
    "avg_total_purchase_per_person = avg_total_purchase_per_person.astype(float).map(\"${:,.2f}\".format)\n",
    "\n",
    "# create a dictonary of series\n",
    "data = {\n",
    "        \"Purchase Count\": purchase_cnt,\n",
    "        \"Average Purchase Price\": avg_purchase_price,\n",
    "        \"Total Purchase Value\": tot_purchase_val, \n",
    "        \"Avg Total Purchase per Person\": avg_total_purchase_per_person,\n",
    "        }\n",
    "# create final dataframe by concatenating # Concatenating the series side by side as depicted by axis=1       \n",
    "Purchasing_Analysis_DF = pd.concat(data,axis = 1)\n",
    "\n",
    "# Display\n",
    "Purchasing_Analysis_DF\n"
   ]
  },
  {
   "cell_type": "markdown",
   "metadata": {},
   "source": [
    "## Age Demographics"
   ]
  },
  {
   "cell_type": "markdown",
   "metadata": {},
   "source": [
    "* Establish bins for ages\n",
    "\n",
    "\n",
    "* Categorize the existing players using the age bins. Hint: use pd.cut()\n",
    "\n",
    "\n",
    "* Calculate the numbers and percentages by age group\n",
    "\n",
    "\n",
    "* Create a summary data frame to hold the results\n",
    "\n",
    "\n",
    "* Optional: round the percentage column to two decimal points\n",
    "\n",
    "\n",
    "* Display Age Demographics Table\n"
   ]
  },
  {
   "cell_type": "code",
   "execution_count": 6,
   "metadata": {},
   "outputs": [
    {
     "output_type": "execute_result",
     "data": {
      "text/plain": [
       "       Total Count Percentage of Players\n",
       "<10             17                 2.95%\n",
       "10-14           22                 3.82%\n",
       "15-19          107                18.58%\n",
       "20-24          258                44.79%\n",
       "25-29           77                13.37%\n",
       "30-34           52                 9.03%\n",
       "35-39           31                 5.38%\n",
       "40+             12                 2.08%"
      ],
      "text/html": "<div>\n<style scoped>\n    .dataframe tbody tr th:only-of-type {\n        vertical-align: middle;\n    }\n\n    .dataframe tbody tr th {\n        vertical-align: top;\n    }\n\n    .dataframe thead th {\n        text-align: right;\n    }\n</style>\n<table border=\"1\" class=\"dataframe\">\n  <thead>\n    <tr style=\"text-align: right;\">\n      <th></th>\n      <th>Total Count</th>\n      <th>Percentage of Players</th>\n    </tr>\n  </thead>\n  <tbody>\n    <tr>\n      <th>&lt;10</th>\n      <td>17</td>\n      <td>2.95%</td>\n    </tr>\n    <tr>\n      <th>10-14</th>\n      <td>22</td>\n      <td>3.82%</td>\n    </tr>\n    <tr>\n      <th>15-19</th>\n      <td>107</td>\n      <td>18.58%</td>\n    </tr>\n    <tr>\n      <th>20-24</th>\n      <td>258</td>\n      <td>44.79%</td>\n    </tr>\n    <tr>\n      <th>25-29</th>\n      <td>77</td>\n      <td>13.37%</td>\n    </tr>\n    <tr>\n      <th>30-34</th>\n      <td>52</td>\n      <td>9.03%</td>\n    </tr>\n    <tr>\n      <th>35-39</th>\n      <td>31</td>\n      <td>5.38%</td>\n    </tr>\n    <tr>\n      <th>40+</th>\n      <td>12</td>\n      <td>2.08%</td>\n    </tr>\n  </tbody>\n</table>\n</div>"
     },
     "metadata": {},
     "execution_count": 6
    }
   ],
   "source": [
    "#Establish bins for ages\n",
    "age_bins = [0, 9.9, 14.9, 19.9, 24.9, 29.9,34.9,39.9,100]\n",
    "bin_names = [\"<10\", \"10-14\", \"15-19\", \"20-24\", \"25-29\",\"30-34\",\"35-39\",\"40+\"]\n",
    "\n",
    "#Preserving original daraframe by create a new dataframe 'purchase_data_agebin' from original\n",
    "purchase_data_agebin = purchase_data\n",
    "\n",
    "#Categorize the existing players using the age bins\n",
    "purchase_data_agebin[\"Age Group\"] = pd.cut(purchase_data_agebin[\"Age\"], age_bins, labels=bin_names, include_lowest=False)\n",
    "\n",
    "#Group data by Age Group\n",
    "purchase_data_by_age_group = purchase_data_agebin.groupby(\"Age Group\")\n",
    "\n",
    "# Total Count\n",
    "total_players_by_age = purchase_data_by_age_group[\"SN\"].nunique()\n",
    "#Create summary dataframe and start adding summary starting with Total Count\n",
    "\n",
    "purchase_data_by_age_group = pd.DataFrame(total_players_by_age)\n",
    "purchase_data_by_age_group = purchase_data_by_age_group.rename(columns={\"SN\": \"Total Count\"})\n",
    "\n",
    "# Total Players of all ages\n",
    "total_players = purchase_data_by_age_group[\"Total Count\"].sum()\n",
    "\n",
    "# Percentage of Players\n",
    "per_of_players = (total_players_by_age/total_players)*100\n",
    "\n",
    "# Applying formatting for display\n",
    "per_of_players = per_of_players.astype(float).map(\"{:.2f}%\".format)\n",
    "\n",
    "# Adding Percentage of Players to dataframe\n",
    "purchase_data_by_age_group[\"Percentage of Players\"] = per_of_players\n",
    "\n",
    "# Display\n",
    "purchase_data_by_age_group.index.name = None\n",
    "purchase_data_by_age_group\n"
   ]
  },
  {
   "cell_type": "markdown",
   "metadata": {},
   "source": [
    "## Purchasing Analysis (Age)"
   ]
  },
  {
   "cell_type": "markdown",
   "metadata": {},
   "source": [
    "* Bin the purchase_data data frame by age\n",
    "\n",
    "\n",
    "* Run basic calculations to obtain purchase count, avg. purchase price, avg. purchase total per person etc. in the table below\n",
    "\n",
    "\n",
    "* Create a summary data frame to hold the results\n",
    "\n",
    "\n",
    "* Optional: give the displayed data cleaner formatting\n",
    "\n",
    "\n",
    "* Display the summary data frame"
   ]
  },
  {
   "cell_type": "code",
   "execution_count": 7,
   "metadata": {},
   "outputs": [
    {
     "output_type": "execute_result",
     "data": {
      "text/plain": [
       "            Purchase Count Average Purchase Price Total Purchase Value  \\\n",
       "Age Ranges                                                               \n",
       "<10                     23                  $3.35               $77.13   \n",
       "10-14                   28                  $2.96               $82.78   \n",
       "15-19                  136                  $3.04              $412.89   \n",
       "20-24                  365                  $3.05            $1,114.06   \n",
       "25-29                  101                  $2.90              $293.00   \n",
       "30-34                   73                  $2.93              $214.00   \n",
       "35-39                   41                  $3.60              $147.67   \n",
       "40+                     13                  $2.94               $38.24   \n",
       "\n",
       "           Avg Total Purchase per Person  \n",
       "Age Ranges                                \n",
       "<10                                $4.54  \n",
       "10-14                              $3.76  \n",
       "15-19                              $3.86  \n",
       "20-24                              $4.32  \n",
       "25-29                              $3.81  \n",
       "30-34                              $4.12  \n",
       "35-39                              $4.76  \n",
       "40+                                $3.19  "
      ],
      "text/html": "<div>\n<style scoped>\n    .dataframe tbody tr th:only-of-type {\n        vertical-align: middle;\n    }\n\n    .dataframe tbody tr th {\n        vertical-align: top;\n    }\n\n    .dataframe thead th {\n        text-align: right;\n    }\n</style>\n<table border=\"1\" class=\"dataframe\">\n  <thead>\n    <tr style=\"text-align: right;\">\n      <th></th>\n      <th>Purchase Count</th>\n      <th>Average Purchase Price</th>\n      <th>Total Purchase Value</th>\n      <th>Avg Total Purchase per Person</th>\n    </tr>\n    <tr>\n      <th>Age Ranges</th>\n      <th></th>\n      <th></th>\n      <th></th>\n      <th></th>\n    </tr>\n  </thead>\n  <tbody>\n    <tr>\n      <th>&lt;10</th>\n      <td>23</td>\n      <td>$3.35</td>\n      <td>$77.13</td>\n      <td>$4.54</td>\n    </tr>\n    <tr>\n      <th>10-14</th>\n      <td>28</td>\n      <td>$2.96</td>\n      <td>$82.78</td>\n      <td>$3.76</td>\n    </tr>\n    <tr>\n      <th>15-19</th>\n      <td>136</td>\n      <td>$3.04</td>\n      <td>$412.89</td>\n      <td>$3.86</td>\n    </tr>\n    <tr>\n      <th>20-24</th>\n      <td>365</td>\n      <td>$3.05</td>\n      <td>$1,114.06</td>\n      <td>$4.32</td>\n    </tr>\n    <tr>\n      <th>25-29</th>\n      <td>101</td>\n      <td>$2.90</td>\n      <td>$293.00</td>\n      <td>$3.81</td>\n    </tr>\n    <tr>\n      <th>30-34</th>\n      <td>73</td>\n      <td>$2.93</td>\n      <td>$214.00</td>\n      <td>$4.12</td>\n    </tr>\n    <tr>\n      <th>35-39</th>\n      <td>41</td>\n      <td>$3.60</td>\n      <td>$147.67</td>\n      <td>$4.76</td>\n    </tr>\n    <tr>\n      <th>40+</th>\n      <td>13</td>\n      <td>$2.94</td>\n      <td>$38.24</td>\n      <td>$3.19</td>\n    </tr>\n  </tbody>\n</table>\n</div>"
     },
     "metadata": {},
     "execution_count": 7
    }
   ],
   "source": [
    "\n",
    "# Using the age bin from previous cell\n",
    "# Binning the purchase_data data frame by age\n",
    "purchase_data_by_age = purchase_data_agebin.groupby(\"Age Group\")\n",
    "\n",
    "# Calc Purchase Count\n",
    "purchase_count = purchase_data_by_age[\"Item ID\"].count()\n",
    "\n",
    "#Create summary dataframe and start adding summary starting with Purchase Count\n",
    "purchase_data_by_age_basic_calc_df = pd.DataFrame(purchase_count)\n",
    "purchase_data_by_age_basic_calc_df = purchase_data_by_age_basic_calc_df.rename(columns={\"Item ID\": \"Purchase Count\"})\n",
    "\n",
    "\n",
    "# Calc Total Purchase Value\n",
    "tot_pur_val = purchase_data_by_age[\"Price\"].sum()\n",
    "\n",
    "# Calc Average Purchase Price\n",
    "avg_pur_price = tot_pur_val/purchase_count\n",
    "\n",
    "#Calc Avg Total Purchase per Person\n",
    "total_player_count = purchase_data_by_age[\"SN\"].nunique()\n",
    "avg_pur_per_person = tot_pur_val/total_player_count\n",
    "\n",
    "# Applying cleaner format to display data\n",
    "tot_pur_val = tot_pur_val.astype(float).map(\"${:,.2f}\".format)\n",
    "avg_pur_price = avg_pur_price.astype(float).map(\"${:,.2f}\".format)\n",
    "avg_pur_per_person = avg_pur_per_person.astype(float).map(\"${:,.2f}\".format)\n",
    "\n",
    "# Adding rest of the summary fields to summary data frame\n",
    "purchase_data_by_age_basic_calc_df[\"Average Purchase Price\"] = avg_pur_price\n",
    "purchase_data_by_age_basic_calc_df[\"Total Purchase Value\"] = tot_pur_val\n",
    "purchase_data_by_age_basic_calc_df[\"Avg Total Purchase per Person\"] = avg_pur_per_person\n",
    "\n",
    "#changing the index field name\n",
    "purchase_data_by_age_basic_calc_df.index.name = \"Age Ranges\"\n",
    "\n",
    "# Displaying the summary data frame\n",
    "purchase_data_by_age_basic_calc_df\n"
   ]
  },
  {
   "cell_type": "markdown",
   "metadata": {},
   "source": [
    "## Top Spenders"
   ]
  },
  {
   "cell_type": "markdown",
   "metadata": {},
   "source": [
    "* Run basic calculations to obtain the results in the table below\n",
    "\n",
    "\n",
    "* Create a summary data frame to hold the results\n",
    "\n",
    "\n",
    "* Sort the total purchase value column in descending order\n",
    "\n",
    "\n",
    "* Optional: give the displayed data cleaner formatting\n",
    "\n",
    "\n",
    "* Display a preview of the summary data frame\n",
    "\n"
   ]
  },
  {
   "cell_type": "code",
   "execution_count": 8,
   "metadata": {},
   "outputs": [
    {
     "output_type": "execute_result",
     "data": {
      "text/plain": [
       "             Purchase Count Average Purchase Price Total Purchase Value\n",
       "SN                                                                     \n",
       "Lisosia93                 5                  $3.79               $18.96\n",
       "Idastidru52               4                  $3.86               $15.45\n",
       "Chamjask73                3                  $4.61               $13.83\n",
       "Iral74                    4                  $3.40               $13.62\n",
       "Iskadarya95               3                  $4.37               $13.10"
      ],
      "text/html": "<div>\n<style scoped>\n    .dataframe tbody tr th:only-of-type {\n        vertical-align: middle;\n    }\n\n    .dataframe tbody tr th {\n        vertical-align: top;\n    }\n\n    .dataframe thead th {\n        text-align: right;\n    }\n</style>\n<table border=\"1\" class=\"dataframe\">\n  <thead>\n    <tr style=\"text-align: right;\">\n      <th></th>\n      <th>Purchase Count</th>\n      <th>Average Purchase Price</th>\n      <th>Total Purchase Value</th>\n    </tr>\n    <tr>\n      <th>SN</th>\n      <th></th>\n      <th></th>\n      <th></th>\n    </tr>\n  </thead>\n  <tbody>\n    <tr>\n      <th>Lisosia93</th>\n      <td>5</td>\n      <td>$3.79</td>\n      <td>$18.96</td>\n    </tr>\n    <tr>\n      <th>Idastidru52</th>\n      <td>4</td>\n      <td>$3.86</td>\n      <td>$15.45</td>\n    </tr>\n    <tr>\n      <th>Chamjask73</th>\n      <td>3</td>\n      <td>$4.61</td>\n      <td>$13.83</td>\n    </tr>\n    <tr>\n      <th>Iral74</th>\n      <td>4</td>\n      <td>$3.40</td>\n      <td>$13.62</td>\n    </tr>\n    <tr>\n      <th>Iskadarya95</th>\n      <td>3</td>\n      <td>$4.37</td>\n      <td>$13.10</td>\n    </tr>\n  </tbody>\n</table>\n</div>"
     },
     "metadata": {},
     "execution_count": 8
    }
   ],
   "source": [
    "# Creating a groupby dataframe with Group by SN\n",
    "spender_group = purchase_data.groupby(\"SN\")\n",
    "\n",
    "# Purchase Count\n",
    "purchase_count = spender_group[\"Item ID\"].count()\n",
    "\n",
    "# Create summary dataframe and start adding summary starting with Purchase Count\n",
    "top_spenders_df = pd.DataFrame(purchase_count)\n",
    "top_spenders_df = top_spenders_df.rename(columns={\"Item ID\": \"Purchase Count\"})\n",
    " \n",
    "# Total Purchase Value\n",
    "tot_purch_val = spender_group[\"Price\"].sum()\n",
    "\n",
    "# Average Purchase Price\n",
    "avg_purch_price =  tot_purch_val/purchase_count\n",
    "avg_purch_price_disp = avg_purch_price.astype(float).map(\"${:,.2f}\".format)\n",
    "\n",
    "# Adding rest of the summary fields to summary data frame\n",
    "top_spenders_df[\"Average Purchase Price\"] = pd.DataFrame(avg_purch_price_disp)\n",
    "top_spenders_df[\"Total Purchase Value\"] = pd.DataFrame(tot_purch_val)\n",
    "\n",
    "# Sorting the total purchase value column in descending order\n",
    "top_spenders_df_sorted = top_spenders_df.sort_values(by=[\"Total Purchase Value\"],ascending=False)\n",
    "\n",
    "# Applying formatting and display a preview of the data frame\n",
    "top_spenders_df_sorted[\"Total Purchase Value\"] = top_spenders_df_sorted[\"Total Purchase Value\"].astype(float).map(\"${:,.2f}\".format)\n",
    "top_spenders_df_sorted.head()"
   ]
  },
  {
   "cell_type": "markdown",
   "metadata": {},
   "source": [
    "## Most Popular Items"
   ]
  },
  {
   "cell_type": "markdown",
   "metadata": {},
   "source": [
    "* Retrieve the Item ID, Item Name, and Item Price columns\n",
    "\n",
    "\n",
    "* Group by Item ID and Item Name. Perform calculations to obtain purchase count, average item price, and total purchase value\n",
    "\n",
    "\n",
    "* Create a summary data frame to hold the results\n",
    "\n",
    "\n",
    "* Sort the purchase count column in descending order\n",
    "\n",
    "\n",
    "* Optional: give the displayed data cleaner formatting\n",
    "\n",
    "\n",
    "* Display a preview of the summary data frame\n",
    "\n"
   ]
  },
  {
   "cell_type": "code",
   "execution_count": 9,
   "metadata": {},
   "outputs": [
    {
     "output_type": "execute_result",
     "data": {
      "text/plain": [
       "                                                      Purchase Count  \\\n",
       "Item ID Item Name                                                      \n",
       "92      Final Critic                                              13   \n",
       "178     Oathbreaker, Last Hope of the Breaking Storm              12   \n",
       "145     Fiery Glass Crusader                                       9   \n",
       "132     Persuasion                                                 9   \n",
       "108     Extraction, Quickblade Of Trembling Hands                  9   \n",
       "\n",
       "                                                     Item Price  \\\n",
       "Item ID Item Name                                                 \n",
       "92      Final Critic                                      $4.61   \n",
       "178     Oathbreaker, Last Hope of the Breaking Storm      $4.23   \n",
       "145     Fiery Glass Crusader                              $4.58   \n",
       "132     Persuasion                                        $3.22   \n",
       "108     Extraction, Quickblade Of Trembling Hands         $3.53   \n",
       "\n",
       "                                                     Total Purchase Value  \n",
       "Item ID Item Name                                                          \n",
       "92      Final Critic                                               $59.99  \n",
       "178     Oathbreaker, Last Hope of the Breaking Storm               $50.76  \n",
       "145     Fiery Glass Crusader                                       $41.22  \n",
       "132     Persuasion                                                 $28.99  \n",
       "108     Extraction, Quickblade Of Trembling Hands                  $31.77  "
      ],
      "text/html": "<div>\n<style scoped>\n    .dataframe tbody tr th:only-of-type {\n        vertical-align: middle;\n    }\n\n    .dataframe tbody tr th {\n        vertical-align: top;\n    }\n\n    .dataframe thead th {\n        text-align: right;\n    }\n</style>\n<table border=\"1\" class=\"dataframe\">\n  <thead>\n    <tr style=\"text-align: right;\">\n      <th></th>\n      <th></th>\n      <th>Purchase Count</th>\n      <th>Item Price</th>\n      <th>Total Purchase Value</th>\n    </tr>\n    <tr>\n      <th>Item ID</th>\n      <th>Item Name</th>\n      <th></th>\n      <th></th>\n      <th></th>\n    </tr>\n  </thead>\n  <tbody>\n    <tr>\n      <th>92</th>\n      <th>Final Critic</th>\n      <td>13</td>\n      <td>$4.61</td>\n      <td>$59.99</td>\n    </tr>\n    <tr>\n      <th>178</th>\n      <th>Oathbreaker, Last Hope of the Breaking Storm</th>\n      <td>12</td>\n      <td>$4.23</td>\n      <td>$50.76</td>\n    </tr>\n    <tr>\n      <th>145</th>\n      <th>Fiery Glass Crusader</th>\n      <td>9</td>\n      <td>$4.58</td>\n      <td>$41.22</td>\n    </tr>\n    <tr>\n      <th>132</th>\n      <th>Persuasion</th>\n      <td>9</td>\n      <td>$3.22</td>\n      <td>$28.99</td>\n    </tr>\n    <tr>\n      <th>108</th>\n      <th>Extraction, Quickblade Of Trembling Hands</th>\n      <td>9</td>\n      <td>$3.53</td>\n      <td>$31.77</td>\n    </tr>\n  </tbody>\n</table>\n</div>"
     },
     "metadata": {},
     "execution_count": 9
    }
   ],
   "source": [
    "# Retrieve the Item ID, Item Name, and Item Price columns\n",
    "popular_items_df = pd.DataFrame(purchase_data[[\"Item ID\", \"Item Name\", \"Price\"]])\n",
    "\n",
    "# Group by Item ID and Item Name\n",
    "popular_items_group = popular_items_df.groupby([\"Item ID\",\"Item Name\"])\n",
    "\n",
    "# purchase count, total purchase value , and average item price\n",
    "popular_items = popular_items_group[\"Item ID\"].count()\n",
    "total_purchase_value = popular_items_group[\"Price\"].sum()\n",
    "average_item_price = total_purchase_value/popular_items\n",
    "\n",
    "# Create summary dataframe and add results \n",
    "most_popular_items_df = pd.DataFrame(popular_items)\n",
    "most_popular_items_df = most_popular_items_df.rename(columns={\"Item ID\": \"Purchase Count\"})\n",
    "most_popular_items_df[\"Item Price\"] = average_item_price\n",
    "most_popular_items_df[\"Total Purchase Value\"] = total_purchase_value\n",
    "\n",
    "# Summary dataframe by sorting the purchase count column in descending order and applying formatting\n",
    "most_popular_items_df_sorted = most_popular_items_df.sort_values(by=[\"Purchase Count\"],ascending=False)\n",
    "most_popular_items_df_sorted[\"Item Price\"] = most_popular_items_df_sorted[\"Item Price\"].astype(float).map(\"${:,.2f}\".format)\n",
    "most_popular_items_df_sorted[\"Total Purchase Value\"] = most_popular_items_df_sorted[\"Total Purchase Value\"].astype(float).map(\"${:,.2f}\".format)\n",
    "\n",
    "# Display a preview of the data frame\n",
    "most_popular_items_df_sorted.head()"
   ]
  },
  {
   "cell_type": "markdown",
   "metadata": {},
   "source": [
    "## Most Profitable Items"
   ]
  },
  {
   "cell_type": "markdown",
   "metadata": {},
   "source": [
    "* Sort the above table by total purchase value in descending order\n",
    "\n",
    "\n",
    "* Optional: give the displayed data cleaner formatting\n",
    "\n",
    "\n",
    "* Display a preview of the data frame\n",
    "\n"
   ]
  },
  {
   "cell_type": "code",
   "execution_count": 10,
   "metadata": {
    "scrolled": true
   },
   "outputs": [
    {
     "output_type": "execute_result",
     "data": {
      "text/plain": [
       "                                                      Purchase Count  \\\n",
       "Item ID Item Name                                                      \n",
       "92      Final Critic                                              13   \n",
       "178     Oathbreaker, Last Hope of the Breaking Storm              12   \n",
       "82      Nirvana                                                    9   \n",
       "145     Fiery Glass Crusader                                       9   \n",
       "103     Singed Scalpel                                             8   \n",
       "\n",
       "                                                     Item Price  \\\n",
       "Item ID Item Name                                                 \n",
       "92      Final Critic                                      $4.61   \n",
       "178     Oathbreaker, Last Hope of the Breaking Storm      $4.23   \n",
       "82      Nirvana                                           $4.90   \n",
       "145     Fiery Glass Crusader                              $4.58   \n",
       "103     Singed Scalpel                                    $4.35   \n",
       "\n",
       "                                                     Total Purchase Value  \n",
       "Item ID Item Name                                                          \n",
       "92      Final Critic                                               $59.99  \n",
       "178     Oathbreaker, Last Hope of the Breaking Storm               $50.76  \n",
       "82      Nirvana                                                    $44.10  \n",
       "145     Fiery Glass Crusader                                       $41.22  \n",
       "103     Singed Scalpel                                             $34.80  "
      ],
      "text/html": "<div>\n<style scoped>\n    .dataframe tbody tr th:only-of-type {\n        vertical-align: middle;\n    }\n\n    .dataframe tbody tr th {\n        vertical-align: top;\n    }\n\n    .dataframe thead th {\n        text-align: right;\n    }\n</style>\n<table border=\"1\" class=\"dataframe\">\n  <thead>\n    <tr style=\"text-align: right;\">\n      <th></th>\n      <th></th>\n      <th>Purchase Count</th>\n      <th>Item Price</th>\n      <th>Total Purchase Value</th>\n    </tr>\n    <tr>\n      <th>Item ID</th>\n      <th>Item Name</th>\n      <th></th>\n      <th></th>\n      <th></th>\n    </tr>\n  </thead>\n  <tbody>\n    <tr>\n      <th>92</th>\n      <th>Final Critic</th>\n      <td>13</td>\n      <td>$4.61</td>\n      <td>$59.99</td>\n    </tr>\n    <tr>\n      <th>178</th>\n      <th>Oathbreaker, Last Hope of the Breaking Storm</th>\n      <td>12</td>\n      <td>$4.23</td>\n      <td>$50.76</td>\n    </tr>\n    <tr>\n      <th>82</th>\n      <th>Nirvana</th>\n      <td>9</td>\n      <td>$4.90</td>\n      <td>$44.10</td>\n    </tr>\n    <tr>\n      <th>145</th>\n      <th>Fiery Glass Crusader</th>\n      <td>9</td>\n      <td>$4.58</td>\n      <td>$41.22</td>\n    </tr>\n    <tr>\n      <th>103</th>\n      <th>Singed Scalpel</th>\n      <td>8</td>\n      <td>$4.35</td>\n      <td>$34.80</td>\n    </tr>\n  </tbody>\n</table>\n</div>"
     },
     "metadata": {},
     "execution_count": 10
    }
   ],
   "source": [
    "# Sort the above table by total purchase value in descending order\n",
    "most_profitable_items_df_sorted = most_popular_items_df.sort_values(by=[\"Total Purchase Value\"],ascending=False)\n",
    "\n",
    "# give the displayed data cleaner formatting\n",
    "most_profitable_items_df_sorted[\"Item Price\"] = most_profitable_items_df_sorted[\"Item Price\"].astype(float).map(\"${:,.2f}\".format)\n",
    "most_profitable_items_df_sorted[\"Total Purchase Value\"] = most_profitable_items_df_sorted[\"Total Purchase Value\"].astype(float).map(\"${:,.2f}\".format)\n",
    "\n",
    "# Display a preview of the data frame\n",
    "most_profitable_items_df_sorted.head()"
   ]
  },
  {
   "cell_type": "code",
   "execution_count": null,
   "metadata": {},
   "outputs": [],
   "source": []
  },
  {
   "cell_type": "code",
   "execution_count": null,
   "metadata": {},
   "outputs": [],
   "source": []
  }
 ],
 "metadata": {
  "anaconda-cloud": {},
  "kernel_info": {
   "name": "python3"
  },
  "kernelspec": {
   "name": "python385jvsc74a57bd0eb0a5deb85624cf39522bd9ea766efe3b585b85d5e69ded4a98e5c69611b9570",
   "display_name": "Python 3.8.5 64-bit ('base': conda)"
  },
  "language_info": {
   "codemirror_mode": {
    "name": "ipython",
    "version": 3
   },
   "file_extension": ".py",
   "mimetype": "text/x-python",
   "name": "python",
   "nbconvert_exporter": "python",
   "pygments_lexer": "ipython3",
   "version": "3.8.5"
  },
  "latex_envs": {
   "LaTeX_envs_menu_present": true,
   "autoclose": false,
   "autocomplete": true,
   "bibliofile": "biblio.bib",
   "cite_by": "apalike",
   "current_citInitial": 1,
   "eqLabelWithNumbers": true,
   "eqNumInitial": 1,
   "hotkeys": {
    "equation": "Ctrl-E",
    "itemize": "Ctrl-I"
   },
   "labels_anchors": false,
   "latex_user_defs": false,
   "report_style_numbering": false,
   "user_envs_cfg": false
  },
  "nteract": {
   "version": "0.2.0"
  }
 },
 "nbformat": 4,
 "nbformat_minor": 2
}